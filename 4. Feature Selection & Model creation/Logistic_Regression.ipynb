{
 "cells": [
  {
   "cell_type": "code",
   "execution_count": 19,
   "id": "416cf628-6bb1-4227-9db0-ff192b4fb601",
   "metadata": {},
   "outputs": [],
   "source": [
    "import pandas as pd\n",
    "import pickle as pk"
   ]
  },
  {
   "cell_type": "code",
   "execution_count": 20,
   "id": "ba432706-af6f-49d1-85c1-f8cc73b7b007",
   "metadata": {},
   "outputs": [],
   "source": [
    "def select_k_best(indep, dep, k):\n",
    "    \n",
    "    from sklearn.feature_selection import SelectKBest, chi2\n",
    "    skb=SelectKBest(score_func=chi2, k=3)\n",
    "    \n",
    "    # fit the selectkbest object to the data\n",
    "    skb_fit = skb.fit(indep, dep)\n",
    "    \n",
    "    # trasform the data to the Select top  K features\n",
    "    x_new = skb_fit.transform(indep)\n",
    "    \n",
    "    # Get the names of the selected features...\n",
    "    selected_features = indep.columns[skb.get_support()]\n",
    "    \n",
    "    return selected_features, x_new\n",
    "\n",
    "def standard_scalar(xtrain, xtest):\n",
    "    ### standard scalar\n",
    "\n",
    "    from sklearn.preprocessing import StandardScaler\n",
    "    scx = StandardScaler()\n",
    "    x_train_scaled = scx.fit_transform(xtrain)\n",
    "    x_test_scaled = scx.fit_transform (xtest)\n",
    "    return x_train_scaled, x_test_scaled, scx\n",
    "   "
   ]
  },
  {
   "cell_type": "code",
   "execution_count": 21,
   "id": "e3f04bea-52ef-4f6a-993d-8b648eedb91c",
   "metadata": {},
   "outputs": [
    {
     "name": "stdout",
     "output_type": "stream",
     "text": [
      "Selected Features:  Index(['MaxHR', 'ST_Slope_Flat', 'ST_Slope_Up'], dtype='object')\n"
     ]
    }
   ],
   "source": [
    "dataset=pd.read_csv(\"prep_ds.csv\")\n",
    "#dataset\n",
    "\n",
    "### separation of indep and dep vars\n",
    "\n",
    "indep = dataset.drop(\"HeartDisease\", axis=1)\n",
    "dep = dataset[\"HeartDisease\"]\n",
    "\n",
    "# Applyting the SelectKbest...\n",
    "selected_features, x_new = select_k_best(indep, dep, 5)\n",
    "\n",
    "#### selected features:\n",
    "print (\"Selected Features: \", selected_features)\n"
   ]
  },
  {
   "cell_type": "code",
   "execution_count": 22,
   "id": "446f41cb-30d7-4453-a1ab-89a1b6bdcddd",
   "metadata": {},
   "outputs": [
    {
     "data": {
      "text/html": [
       "<div>\n",
       "<style scoped>\n",
       "    .dataframe tbody tr th:only-of-type {\n",
       "        vertical-align: middle;\n",
       "    }\n",
       "\n",
       "    .dataframe tbody tr th {\n",
       "        vertical-align: top;\n",
       "    }\n",
       "\n",
       "    .dataframe thead th {\n",
       "        text-align: right;\n",
       "    }\n",
       "</style>\n",
       "<table border=\"1\" class=\"dataframe\">\n",
       "  <thead>\n",
       "    <tr style=\"text-align: right;\">\n",
       "      <th></th>\n",
       "      <th>MaxHR</th>\n",
       "      <th>ST_Slope_Flat</th>\n",
       "      <th>ST_Slope_Up</th>\n",
       "    </tr>\n",
       "  </thead>\n",
       "  <tbody>\n",
       "    <tr>\n",
       "      <th>0</th>\n",
       "      <td>156</td>\n",
       "      <td>0</td>\n",
       "      <td>1</td>\n",
       "    </tr>\n",
       "    <tr>\n",
       "      <th>1</th>\n",
       "      <td>156</td>\n",
       "      <td>1</td>\n",
       "      <td>0</td>\n",
       "    </tr>\n",
       "    <tr>\n",
       "      <th>2</th>\n",
       "      <td>120</td>\n",
       "      <td>0</td>\n",
       "      <td>1</td>\n",
       "    </tr>\n",
       "    <tr>\n",
       "      <th>3</th>\n",
       "      <td>120</td>\n",
       "      <td>1</td>\n",
       "      <td>0</td>\n",
       "    </tr>\n",
       "    <tr>\n",
       "      <th>4</th>\n",
       "      <td>122</td>\n",
       "      <td>0</td>\n",
       "      <td>1</td>\n",
       "    </tr>\n",
       "    <tr>\n",
       "      <th>...</th>\n",
       "      <td>...</td>\n",
       "      <td>...</td>\n",
       "      <td>...</td>\n",
       "    </tr>\n",
       "    <tr>\n",
       "      <th>913</th>\n",
       "      <td>132</td>\n",
       "      <td>1</td>\n",
       "      <td>0</td>\n",
       "    </tr>\n",
       "    <tr>\n",
       "      <th>914</th>\n",
       "      <td>141</td>\n",
       "      <td>1</td>\n",
       "      <td>0</td>\n",
       "    </tr>\n",
       "    <tr>\n",
       "      <th>915</th>\n",
       "      <td>120</td>\n",
       "      <td>1</td>\n",
       "      <td>0</td>\n",
       "    </tr>\n",
       "    <tr>\n",
       "      <th>916</th>\n",
       "      <td>156</td>\n",
       "      <td>1</td>\n",
       "      <td>0</td>\n",
       "    </tr>\n",
       "    <tr>\n",
       "      <th>917</th>\n",
       "      <td>156</td>\n",
       "      <td>0</td>\n",
       "      <td>1</td>\n",
       "    </tr>\n",
       "  </tbody>\n",
       "</table>\n",
       "<p>918 rows × 3 columns</p>\n",
       "</div>"
      ],
      "text/plain": [
       "     MaxHR  ST_Slope_Flat  ST_Slope_Up\n",
       "0      156              0            1\n",
       "1      156              1            0\n",
       "2      120              0            1\n",
       "3      120              1            0\n",
       "4      122              0            1\n",
       "..     ...            ...          ...\n",
       "913    132              1            0\n",
       "914    141              1            0\n",
       "915    120              1            0\n",
       "916    156              1            0\n",
       "917    156              0            1\n",
       "\n",
       "[918 rows x 3 columns]"
      ]
     },
     "execution_count": 22,
     "metadata": {},
     "output_type": "execute_result"
    }
   ],
   "source": [
    "dataset[selected_features]"
   ]
  },
  {
   "cell_type": "code",
   "execution_count": 23,
   "id": "a4ce4b0d-5924-4f00-a2e6-825652afd53e",
   "metadata": {},
   "outputs": [],
   "source": [
    "### Separation of Training and Test dataset...\n",
    "from sklearn.model_selection import train_test_split\n",
    "xtrain, xtest, ytrain, ytest = train_test_split(x_new, dep, test_size=0.30, random_state=1)\n",
    "\n",
    "# Standard scalar\n",
    "x_train_scaled, x_test_scaled, scx= standard_scalar(xtrain, xtest)"
   ]
  },
  {
   "cell_type": "code",
   "execution_count": 24,
   "id": "b65fa1f0-1f55-4e9c-a089-c7db4ff36da0",
   "metadata": {},
   "outputs": [],
   "source": [
    "#Model creation using CV search and linear model\n",
    "from sklearn.model_selection import GridSearchCV\n",
    "from sklearn.linear_model import LogisticRegression\n",
    "\n",
    "param_grid={'penalty':['l2'],\n",
    "            'solver':['lbfgs'],\n",
    "            'class_weight':['balanced']\n",
    "            }  \n",
    "model= GridSearchCV(LogisticRegression(),param_grid,scoring='f1_weighted', refit=True, n_jobs=-1,cv=5)\n",
    "model.fit(x_train_scaled,ytrain)\n",
    "\n",
    "y_pred= model.predict(x_test_scaled)"
   ]
  },
  {
   "cell_type": "code",
   "execution_count": 25,
   "id": "f6f1cfa8-10cf-4dcd-91c2-3613084d3842",
   "metadata": {},
   "outputs": [
    {
     "name": "stdout",
     "output_type": "stream",
     "text": [
      "clf_report               precision    recall  f1-score   support\n",
      "\n",
      "           0       0.77      0.77      0.77       109\n",
      "           1       0.85      0.85      0.85       167\n",
      "\n",
      "    accuracy                           0.82       276\n",
      "   macro avg       0.81      0.81      0.81       276\n",
      "weighted avg       0.82      0.82      0.82       276\n",
      "\n",
      "Accuracy :  0.8188405797101449\n"
     ]
    }
   ],
   "source": [
    "from sklearn.metrics import confusion_matrix, classification_report, accuracy_score\n",
    "cm = confusion_matrix(ytest, y_pred)\n",
    "clf_report = classification_report(ytest, y_pred)\n",
    "acc_score = accuracy_score(ytest, y_pred)\n",
    "\n",
    "\n",
    "print(\"clf_report\",clf_report)\n",
    "\n",
    "### Accuracy_score\n",
    "print (\"Accuracy : \", acc_score)"
   ]
  },
  {
   "cell_type": "code",
   "execution_count": 26,
   "id": "aea3fdf6-52a6-4c33-b8d8-debbb4593ebb",
   "metadata": {},
   "outputs": [],
   "source": [
    "# Save model...\n",
    "pk.dump(model, open(\"logisticR_finalized_model\", 'wb'))"
   ]
  },
  {
   "cell_type": "code",
   "execution_count": 27,
   "id": "776df94e-f287-40e6-bc3e-4c2fcbfbc479",
   "metadata": {},
   "outputs": [],
   "source": [
    "# save the Standard scalar obj...\n",
    "pk.dump(scx, open(\"scx\", 'wb'))"
   ]
  },
  {
   "cell_type": "code",
   "execution_count": null,
   "id": "b75459d3-107a-4ad9-9953-75f71bfff131",
   "metadata": {},
   "outputs": [],
   "source": []
  }
 ],
 "metadata": {
  "kernelspec": {
   "display_name": "Python 3 (ipykernel)",
   "language": "python",
   "name": "python3"
  },
  "language_info": {
   "codemirror_mode": {
    "name": "ipython",
    "version": 3
   },
   "file_extension": ".py",
   "mimetype": "text/x-python",
   "name": "python",
   "nbconvert_exporter": "python",
   "pygments_lexer": "ipython3",
   "version": "3.10.14"
  }
 },
 "nbformat": 4,
 "nbformat_minor": 5
}
